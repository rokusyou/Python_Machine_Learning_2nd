{
 "cells": [
  {
   "cell_type": "markdown",
   "metadata": {},
   "source": [
    "### 5.1 PCA"
   ]
  },
  {
   "cell_type": "code",
   "execution_count": 1,
   "metadata": {
    "collapsed": true
   },
   "outputs": [],
   "source": [
    "import pandas as pd\n",
    "df_wine = pd.read_csv(\n",
    "    'https://archive.ics.uci.edu/ml/machine-learning-databases/wine/wine.data',header=None)"
   ]
  },
  {
   "cell_type": "code",
   "execution_count": 2,
   "metadata": {},
   "outputs": [
    {
     "name": "stderr",
     "output_type": "stream",
     "text": [
      "C:\\Users\\yueki\\Anaconda3\\lib\\site-packages\\sklearn\\cross_validation.py:41: DeprecationWarning: This module was deprecated in version 0.18 in favor of the model_selection module into which all the refactored classes and functions are moved. Also note that the interface of the new CV iterators are different from that of this module. This module will be removed in 0.20.\n",
      "  \"This module will be removed in 0.20.\", DeprecationWarning)\n"
     ]
    }
   ],
   "source": [
    "from sklearn.cross_validation import train_test_split\n",
    "from sklearn.preprocessing import StandardScaler\n",
    "\n",
    "X, y = df_wine.iloc[:,1:].values, df_wine.iloc[:, 0].values\n",
    "X_train, X_test, y_train, y_test = train_test_split(\n",
    "    X, y, test_size=0.3, stratify=y, random_state=0)\n",
    "\n",
    "sc = StandardScaler()\n",
    "X_train_std = sc.fit_transform(X_train)\n",
    "X_test_std  = sc.transform(X_test)"
   ]
  },
  {
   "cell_type": "code",
   "execution_count": 3,
   "metadata": {},
   "outputs": [
    {
     "name": "stdout",
     "output_type": "stream",
     "text": [
      "/nEigenvalues \n",
      "[4.84274532 2.41602459 1.54845825 0.96120438 0.84166161 0.6620634\n",
      " 0.51828472 0.34650377 0.3131368  0.10754642 0.21357215 0.15362835\n",
      " 0.1808613 ]\n"
     ]
    }
   ],
   "source": [
    "# 5.1.2 Caculate eigenvalue & eigenvector\n",
    "import numpy as np\n",
    "cov_mat = np.cov(X_train_std.T)\n",
    "eigen_vals, eigen_vecs = np.linalg.eig(cov_mat)\n",
    "\n",
    "print('/nEigenvalues \\n%s' % eigen_vals)"
   ]
  },
  {
   "cell_type": "code",
   "execution_count": 4,
   "metadata": {
    "collapsed": true
   },
   "outputs": [],
   "source": [
    "%matplotlib inline"
   ]
  },
  {
   "cell_type": "code",
   "execution_count": 5,
   "metadata": {},
   "outputs": [
    {
     "data": {
      "image/png": "[encoded data removed]",
      "text/plain": [
       "<matplotlib.figure.Figure at 0x1fcfa6376d8>"
      ]
     },
     "metadata": {},
     "output_type": "display_data"
    }
   ],
   "source": [
    "# 5.1.3\n",
    "tot = sum(eigen_vals)\n",
    "var_exp = [( i / tot) for i in sorted(eigen_vals, reverse=True)]\n",
    "\n",
    "cum_var_exp = np.cumsum(var_exp)\n",
    "import matplotlib.pyplot as plt\n",
    "\n",
    "plt.bar(range(1,14), var_exp, alpha=0.5, align='center',\n",
    "       label='individual explained variance')\n",
    "\n",
    "plt.step(range(1,14),cum_var_exp, where='mid',\n",
    "        label='cumulative explained variance')\n",
    "\n",
    "plt.ylabel('Explained variance ratio')\n",
    "plt.xlabel('Principal component index')\n",
    "plt.legend(loc='best')\n",
    "plt.tight_layout()\n",
    "plt.show()"
   ]
  },
  {
   "cell_type": "code",
   "execution_count": 6,
   "metadata": {},
   "outputs": [
    {
     "name": "stdout",
     "output_type": "stream",
     "text": [
      "Matrix W::\n",
      " [[-0.13724218  0.50303478]\n",
      " [ 0.24724326  0.16487119]\n",
      " [-0.02545159  0.24456476]\n",
      " [ 0.20694508 -0.11352904]\n",
      " [-0.15436582  0.28974518]\n",
      " [-0.39376952  0.05080104]\n",
      " [-0.41735106 -0.02287338]\n",
      " [ 0.30572896  0.09048885]\n",
      " [-0.30668347  0.00835233]\n",
      " [ 0.07554066  0.54977581]\n",
      " [-0.32613263 -0.20716433]\n",
      " [-0.36861022 -0.24902536]\n",
      " [-0.29669651  0.38022942]]\n"
     ]
    }
   ],
   "source": [
    "#$ 5.1.4 Feature transformation\n",
    "\n",
    "eigen_pairs = [(np.abs(eigen_vals[i]),eigen_vecs[:,i])\n",
    "                for i in range(len(eigen_vals))]\n",
    "eigen_pairs.sort(key=lambda k: k[0], reverse=True)\n",
    "w = np.hstack((eigen_pairs[0][1][:, np.newaxis], eigen_pairs[1][1][:, np.newaxis]))\n",
    "print('Matrix W::\\n',w)\n"
   ]
  },
  {
   "cell_type": "code",
   "execution_count": 7,
   "metadata": {},
   "outputs": [
    {
     "data": {
      "text/plain": [
       "array([2.38299011, 0.45458499])"
      ]
     },
     "execution_count": 7,
     "metadata": {},
     "output_type": "execute_result"
    }
   ],
   "source": [
    "X_train_std[0].dot(w)"
   ]
  },
  {
   "cell_type": "code",
   "execution_count": 8,
   "metadata": {
    "collapsed": true
   },
   "outputs": [],
   "source": [
    "X_train_pca = X_train_std.dot(w)"
   ]
  },
  {
   "cell_type": "code",
   "execution_count": 9,
   "metadata": {},
   "outputs": [
    {
     "data": {
      "image/png": "[encoded data removed]",
      "text/plain": [
       "<matplotlib.figure.Figure at 0x1fcfa637240>"
      ]
     },
     "metadata": {},
     "output_type": "display_data"
    }
   ],
   "source": [
    "colors = ['r', 'b', 'g']\n",
    "markers = ['s', 'x', 'o']\n",
    "\n",
    "for l, c, m in zip(np.unique(y_train), colors, markers):\n",
    "    plt.scatter(X_train_pca[y_train==l, 0],\n",
    "                X_train_pca[y_train==l, 1],\n",
    "               c=c, label=l, marker=m)\n",
    "\n",
    "plt.xlabel('PC 1')\n",
    "plt.ylabel('PC 2')\n",
    "plt.legend(loc='lower left')\n",
    "plt.tight_layout()\n",
    "plt.show()\n",
    "    "
   ]
  },
  {
   "cell_type": "code",
   "execution_count": 10,
   "metadata": {},
   "outputs": [
    {
     "data": {
      "image/png": "[encoded data removed]",
      "text/plain": [
       "<matplotlib.figure.Figure at 0x1fcee8cf828>"
      ]
     },
     "metadata": {},
     "output_type": "display_data"
    }
   ],
   "source": [
    "# 5.1.5 Principal component analysis in scikit-learn\n",
    "\n",
    "# import method defined in chap2\n",
    "from _tools import plot_decision_regions\n",
    "\n",
    "from sklearn.linear_model import LogisticRegression\n",
    "from sklearn.decomposition import PCA\n",
    "\n",
    "pca = PCA(n_components=2)\n",
    "\n",
    "lr = LogisticRegression()\n",
    "\n",
    "X_train_pca = pca.fit_transform(X_train_std)\n",
    "X_test_pca = pca.transform(X_test_std)\n",
    "\n",
    "lr.fit(X_train_pca, y_train)\n",
    "\n",
    "plot_decision_regions(X_train_pca, y_train, classifier=lr)\n",
    "\n",
    "plt.xlabel('PC 1')\n",
    "plt.ylabel('PC 2')\n",
    "plt.legend(loc='lower left')\n",
    "plt.tight_layout()\n",
    "plt.show()"
   ]
  },
  {
   "cell_type": "code",
   "execution_count": 11,
   "metadata": {},
   "outputs": [
    {
     "data": {
      "image/png": "[encoded data removed]",
      "text/plain": [
       "<matplotlib.figure.Figure at 0x1fcfcbed8d0>"
      ]
     },
     "metadata": {},
     "output_type": "display_data"
    }
   ],
   "source": [
    "plot_decision_regions(X_test_pca, y_test,classifier=lr)\n",
    "plt.xlabel('PC1')\n",
    "plt.ylabel('PC2')\n",
    "plt.legend(loc='lower left')\n",
    "plt.tight_layout()\n",
    "plt.show()"
   ]
  },
  {
   "cell_type": "code",
   "execution_count": 12,
   "metadata": {},
   "outputs": [
    {
     "data": {
      "text/plain": [
       "array([0.36951469, 0.18434927, 0.11815159, 0.07334252, 0.06422108,\n",
       "       0.05051724, 0.03954654, 0.02643918, 0.02389319, 0.01629614,\n",
       "       0.01380021, 0.01172226, 0.00820609])"
      ]
     },
     "execution_count": 12,
     "metadata": {},
     "output_type": "execute_result"
    }
   ],
   "source": [
    "pca = PCA(n_components=None)\n",
    "X_train_pca = pca.fit_transform(X_train_std)\n",
    "\n",
    "pca.explained_variance_ratio_"
   ]
  },
  {
   "cell_type": "markdown",
   "metadata": {},
   "source": [
    "### 5.2 LDA"
   ]
  },
  {
   "cell_type": "markdown",
   "metadata": {},
   "source": [
    "#### 5.2.3 Calculate scatter matrix"
   ]
  },
  {
   "cell_type": "code",
   "execution_count": 13,
   "metadata": {},
   "outputs": [
    {
     "name": "stdout",
     "output_type": "stream",
     "text": [
      "MV 1: [ 0.9066 -0.3497  0.3201 -0.7189  0.5056  0.8807  0.9589 -0.5516  0.5416\n",
      "  0.2338  0.5897  0.6563  1.2075]\n",
      "\n",
      "MV 2: [-0.8749 -0.2848 -0.3735  0.3157 -0.3848 -0.0433  0.0635 -0.0946  0.0703\n",
      " -0.8286  0.3144  0.3608 -0.7253]\n",
      "\n",
      "MV 3: [ 0.1992  0.866   0.1682  0.4148 -0.0451 -1.0286 -1.2876  0.8287 -0.7795\n",
      "  0.9649 -1.209  -1.3622 -0.4013]\n",
      "\n"
     ]
    }
   ],
   "source": [
    "np.set_printoptions(precision=4)\n",
    "mean_vecs = []\n",
    "for label in range(1,4):\n",
    "    mean_vecs.append(np.mean(X_train_std[y_train==label],axis=0))\n",
    "    print('MV %s: %s\\n' %(label,mean_vecs[label-1]))"
   ]
  },
  {
   "cell_type": "code",
   "execution_count": 14,
   "metadata": {},
   "outputs": [
    {
     "name": "stdout",
     "output_type": "stream",
     "text": [
      "Within-class scatter matrix: 13x13\n"
     ]
    }
   ],
   "source": [
    "d = 13 # character num\n",
    "S_W = np.zeros((d, d))\n",
    "for label,mv in zip(range(1,4), mean_vecs):\n",
    "    class_scatter = np.zeros((d, d))\n",
    "    for row in X_train_std[y_train == label]:\n",
    "        row, mv = row.reshape(d,1), mv.reshape(d,1)\n",
    "        class_scatter += (row - mv).dot((row - mv).T)\n",
    "        S_W += class_scatter\n",
    "print('Within-class scatter matrix: %sx%s' % (S_W.shape[0], S_W.shape[1]))     "
   ]
  },
  {
   "cell_type": "code",
   "execution_count": 15,
   "metadata": {},
   "outputs": [
    {
     "name": "stdout",
     "output_type": "stream",
     "text": [
      "Between-class scatter matrix: 13x13\n"
     ]
    }
   ],
   "source": [
    "mean_overall = np.mean(X_train_std, axis=0)\n",
    "d = 13\n",
    "S_B = np.zeros((d, d))\n",
    "for i, mean_vec  in enumerate(mean_vecs):\n",
    "    n = X_train[y_train == i + 1, :].shape[0]\n",
    "    \n",
    "    mean_vec = mean_vec.reshape(d, 1)\n",
    "    mean_overall = mean_overall.reshape(d, 1)\n",
    "    S_B += n * (mean_vec - mean_overall).dot((mean_vec - mean_overall).T)\n",
    "print('Between-class scatter matrix: %sx%s' % (S_B.shape[0], S_B.shape[1]))"
   ]
  },
  {
   "cell_type": "code",
   "execution_count": 16,
   "metadata": {},
   "outputs": [
    {
     "name": "stdout",
     "output_type": "stream",
     "text": [
      "Eigenvalues in descending order:\n",
      "\n",
      "0.4190441115034062\n",
      "0.19673290564476184\n",
      "6.490794717846114e-17\n",
      "3.170566999301108e-17\n",
      "3.170566999301108e-17\n",
      "3.0247612577021183e-17\n",
      "2.4210247294590214e-17\n",
      "2.4210247294590214e-17\n",
      "2.0796794809052003e-17\n",
      "1.507520868083642e-17\n",
      "6.560589268345932e-18\n",
      "6.560589268345932e-18\n",
      "0.0\n"
     ]
    }
   ],
   "source": [
    "eigen_vals, eigen_vecs = np.linalg.eig(np.linalg.inv(S_W).dot(S_B))\n",
    "\n",
    "eigen_pairs = [(np.abs(eigen_vals[i]), eigen_vecs[:, i])\n",
    "              for i in range(len(eigen_vals))]\n",
    "\n",
    "eigen_pairs = sorted(eigen_pairs, key=lambda k: k[0], reverse=True)\n",
    "print('Eigenvalues in descending order:\\n')\n",
    "for eigen_val in eigen_pairs:\n",
    "    print(eigen_val[0])"
   ]
  },
  {
   "cell_type": "code",
   "execution_count": 18,
   "metadata": {},
   "outputs": [
    {
     "data": {
      "image/png": "[encoded data removed]",
      "text/plain": [
       "<matplotlib.figure.Figure at 0x1fcfa63f048>"
      ]
     },
     "metadata": {},
     "output_type": "display_data"
    }
   ],
   "source": [
    "tot = sum(eigen_vals.real)\n",
    "discr = [(i / tot) for i in sorted(eigen_vals.real, reverse=True)]\n",
    "cum_discr = np.cumsum(discr)\n",
    "plt.bar(range(1,14), discr, alpha=0.5, align='center',\n",
    "       label='individual \"discriminability\"')\n",
    "plt.step(range(1,14), cum_discr, where='mid',\n",
    "        label='cumulative \"discriminability\"')\n",
    "plt.ylabel('\"discriminability\" ratio')\n",
    "plt.xlabel('Linear Duscriminants')\n",
    "plt.ylim([-0.1, 1.1])\n",
    "plt.legend(loc='best')\n",
    "plt.tight_layout()\n",
    "plt.show()"
   ]
  },
  {
   "cell_type": "code",
   "execution_count": 22,
   "metadata": {},
   "outputs": [
    {
     "name": "stdout",
     "output_type": "stream",
     "text": [
      "Matrix W:\n",
      " [[-0.1497 -0.3246]\n",
      " [ 0.064  -0.1482]\n",
      " [ 0.0169 -0.3136]\n",
      " [ 0.1269  0.2537]\n",
      " [-0.0495 -0.0227]\n",
      " [ 0.2168 -0.1613]\n",
      " [-0.7542  0.4865]\n",
      " [-0.1321  0.0371]\n",
      " [ 0.0507  0.0127]\n",
      " [ 0.3038 -0.3411]\n",
      " [-0.0009  0.1639]\n",
      " [-0.2212  0.0953]\n",
      " [-0.4214 -0.5413]]\n"
     ]
    }
   ],
   "source": [
    "w = np.hstack((eigen_pairs[0][1][:, np.newaxis].real,\n",
    "              eigen_pairs[1][1][:, np.newaxis].real))\n",
    "\n",
    "print('Matrix W:\\n', w)"
   ]
  },
  {
   "cell_type": "markdown",
   "metadata": {},
   "source": [
    "#### 5.2.5"
   ]
  },
  {
   "cell_type": "code",
   "execution_count": 24,
   "metadata": {},
   "outputs": [
    {
     "data": {
      "text/plain": [
       "<matplotlib.text.Text at 0x1fcfd252550>"
      ]
     },
     "execution_count": 24,
     "metadata": {},
     "output_type": "execute_result"
    },
    {
     "data": {
      "image/png": "[encoded data removed]",
      "text/plain": [
       "<matplotlib.figure.Figure at 0x1fcfd132828>"
      ]
     },
     "metadata": {},
     "output_type": "display_data"
    }
   ],
   "source": [
    "X_train_lda = X_train_std.dot(w)\n",
    "colors= ['r''','b','g']\n",
    "markers = ['s','x','o']\n",
    "for l, c, m in zip(np.unique(y_train), colors, markers):\n",
    "    plt.scatter(X_train_lda[y_train == l, 0],\n",
    "                X_train_lda[y_train == l, 1] * (-1),\n",
    "                c=c, label=l, marker=m)\n",
    "plt.xlabel(('LD 1'))\n",
    "plt.ylabel(('LD 2'))\n",
    "plt.legend(loc='lower right')\n",
    "plt.tight_layout()\n",
    "plt.show()"
   ]
  },
  {
   "cell_type": "markdown",
   "metadata": {},
   "source": [
    "#### 5.2.6 LDA in scikit-learn\n"
   ]
  },
  {
   "cell_type": "code",
   "execution_count": 27,
   "metadata": {},
   "outputs": [],
   "source": [
    "from sklearn.discriminant_analysis import LinearDiscriminantAnalysis as LDA\n",
    "lda = LDA(n_components=2)\n",
    "X_train_lda = lda.fit_transform(X_train_std, y_train)"
   ]
  },
  {
   "cell_type": "code",
   "execution_count": 30,
   "metadata": {},
   "outputs": [
    {
     "data": {
      "image/png": "[encoded data removed]",
      "text/plain": [
       "<matplotlib.figure.Figure at 0x1fcfd240be0>"
      ]
     },
     "metadata": {},
     "output_type": "display_data"
    }
   ],
   "source": [
    "lr = LogisticRegression()\n",
    "lr = lr.fit(X_train_lda, y_train)\n",
    "plot_decision_regions(X_train_lda, y_train, classifier=lr)\n",
    "plt.xlabel(('LD 1'))\n",
    "plt.ylabel(('LD 2'))\n",
    "plt.legend(loc='lower right')\n",
    "plt.tight_layout()\n",
    "plt.show()\n"
   ]
  },
  {
   "cell_type": "code",
   "execution_count": 33,
   "metadata": {},
   "outputs": [
    {
     "data": {
      "image/png": "[encoded data removed]",
      "text/plain": [
       "<matplotlib.figure.Figure at 0x1fcfd38a710>"
      ]
     },
     "metadata": {},
     "output_type": "display_data"
    }
   ],
   "source": [
    "X_test_lda = lda.transform(X_test_std)\n",
    "plot_decision_regions(X_test_lda, y_test, classifier=lr)\n",
    "plt.xlabel(('LD 1'))\n",
    "plt.ylabel(('LD 2'))\n",
    "plt.legend(loc='lower right')\n",
    "plt.tight_layout()\n",
    "plt.show()\n"
   ]
  },
  {
   "cell_type": "code",
   "execution_count": 32,
   "metadata": {},
   "outputs": [
    {
     "data": {
      "text/plain": [
       "array([[ 8.9444e-01, -3.8812e-01,  1.1007e+00, -8.1202e-01,  1.1320e+00,\n",
       "         1.0981e+00,  7.1204e-01,  1.8101e-01,  6.6280e-02,  5.1286e-01,\n",
       "         7.9630e-01,  4.4830e-01,  1.9059e+00],\n",
       "       [-1.0488e+00, -7.7299e-01,  5.4119e-01, -2.4094e-01,  3.4941e-01,\n",
       "        -7.0722e-01, -3.0812e-01,  6.7614e-01, -1.0352e+00, -9.0657e-01,\n",
       "         2.2457e+00, -5.6188e-01, -1.2287e+00],\n",
       "       [ 1.6474e+00, -4.1378e-01,  2.4277e-01, -1.5634e+00, -2.1975e-01,\n",
       "         2.8488e-01,  4.4719e-01, -5.6167e-01,  5.7466e-01,  6.7964e-02,\n",
       "         2.9806e-01,  1.3863e+00,  1.6447e+00],\n",
       "       [ 2.0216e-01, -4.9075e-01, -9.1362e-01, -2.5854e+00,  6.4834e-02,\n",
       "         5.2884e-01,  6.8261e-01, -8.9176e-01, -6.1156e-01, -3.0066e-01,\n",
       "         4.3395e-01,  1.1266e+00,  9.0714e-01],\n",
       "       [-8.0589e-01, -1.0980e+00, -1.0628e+00, -3.9122e-01, -7.8891e-01,\n",
       "         1.9438e+00,  1.6537e+00, -1.0568e+00,  5.2382e-01, -2.4982e-01,\n",
       "         3.8865e-01,  2.1740e-01, -2.9141e-01],\n",
       "       [-7.0873e-01,  5.7835e-01,  9.5152e-01,  2.1636e+00, -1.4860e-01,\n",
       "        -6.9096e-01, -1.4558e+00,  2.1615e+00, -8.4880e-01,  1.0213e+00,\n",
       "        -1.2872e+00, -1.2834e+00,  3.8470e-01],\n",
       "       [-1.4496e+00,  4.5861e-01, -5.7789e-01, -5.4151e-01,  9.1858e-01,\n",
       "        -9.8371e-01, -7.2992e-01,  5.1110e-01, -1.1708e+00, -1.0337e+00,\n",
       "         2.6300e-02, -1.4338e-01, -7.8312e-01],\n",
       "       [ 5.0579e-01,  1.1514e+00,  8.0231e-01,  9.6133e-01,  8.4743e-01,\n",
       "        -1.0162e+00, -1.1223e+00,  5.1110e-01, -3.0653e-01,  2.3687e+00,\n",
       "        -4.7193e-01, -1.5288e+00, -1.8385e-01],\n",
       "       [ 8.5800e-01, -5.8483e-01, -5.0329e-01, -1.0224e+00,  1.3454e+00,\n",
       "         4.4752e-01,  8.1994e-01, -1.3044e+00, -3.5395e-02,  3.2219e-01,\n",
       "        -1.5488e-01,  8.3793e-01,  9.3788e-01],\n",
       "       [ 3.4790e-01,  7.5796e-01, -1.8351e-02,  5.1048e-01, -5.0433e-01,\n",
       "        -6.4216e-01, -1.2792e+00,  6.7614e-01, -6.6239e-01,  1.4111e+00,\n",
       "        -1.8308e+00, -1.4422e+00, -3.2214e-01],\n",
       "       [ 8.7015e-01, -5.3352e-01,  9.3558e-02, -1.1426e+00, -7.1776e-01,\n",
       "         4.4752e-01,  6.8261e-01, -6.4419e-01,  2.8658e-01,  2.1626e-01,\n",
       "         8.8689e-01,  4.0500e-01,  1.7369e+00],\n",
       "       [-9.0306e-01, -8.0721e-01, -1.5105e+00, -1.1426e+00, -1.0023e+00,\n",
       "         3.6620e-01,  4.2757e-01, -6.4419e-01,  2.1879e-01, -9.2775e-01,\n",
       "         1.2492e+00,  1.7410e-01, -1.0044e+00],\n",
       "       [ 9.0658e-01,  3.4742e-01, -3.1677e-01,  6.6076e-01, -6.4662e-01,\n",
       "        -1.5855e+00, -1.3577e+00,  3.4606e-01, -1.0352e+00,  1.9026e+00,\n",
       "        -1.1513e+00, -1.3556e+00, -4.2970e-01],\n",
       "       [ 1.0037e+00, -8.5852e-01, -4.2868e-01, -1.1426e+00, -7.7456e-02,\n",
       "         1.0656e+00,  1.0652e+00, -1.2218e+00,  3.5436e-01,  9.0267e-01,\n",
       "         2.5277e-01,  1.3430e+00,  8.9178e-01],\n",
       "       [-8.1804e-01,  1.2626e+00, -1.8351e-02,  3.6020e-01, -7.8891e-01,\n",
       "        -4.0398e-02, -1.1223e+00,  1.0887e+00, -1.0183e+00,  1.0849e+00,\n",
       "        -1.7855e+00, -1.4999e+00, -7.2166e-01],\n",
       "       [ 9.2852e-02, -3.8812e-01,  1.3618e+00,  1.7128e+00,  1.2032e+00,\n",
       "        -2.0304e-01, -7.6916e-01, -8.9176e-01, -1.3707e-01,  8.5183e-01,\n",
       "        -1.5590e+00, -1.8607e+00, -1.0136e+00],\n",
       "       [ 5.6652e-01, -4.6509e-01,  8.3961e-01,  5.9629e-02, -2.1975e-01,\n",
       "         3.3367e-01,  5.3547e-01, -7.2672e-01,  3.2389e-02, -6.6505e-01,\n",
       "         7.5100e-01,  1.7327e+00,  2.7713e-01],\n",
       "       [ 1.4410e+00,  1.3994e+00,  4.6658e-01, -1.9842e+00,  2.0569e+00,\n",
       "         1.0981e+00,  9.5727e-01, -1.3869e+00,  7.4412e-01,  4.4079e-03,\n",
       "        -2.9076e-01,  1.3142e+00,  1.5911e-02],\n",
       "       [-1.9863e-01,  1.9297e+00,  3.5468e-01,  5.1048e-01, -9.3120e-01,\n",
       "        -1.0162e+00, -1.3871e+00,  8.4118e-01, -1.3233e+00,  1.0849e+00,\n",
       "        -1.8760e+00, -1.0958e+00, -3.9897e-01],\n",
       "       [-6.8444e-01, -7.1312e-01, -6.8980e-01, -2.4094e-01,  4.4758e+00,\n",
       "         2.8488e-01,  2.0196e-01, -3.9663e-01,  2.7776e+00, -1.0549e+00,\n",
       "         9.3218e-01,  1.5362e-02,  5.5987e-01],\n",
       "       [ 1.6232e+00, -3.4535e-01,  4.2928e-01, -9.0219e-01,  9.8972e-01,\n",
       "         2.4805e+00,  1.3987e+00, -1.0568e+00,  9.1358e-01,  1.1484e+00,\n",
       "        -4.2664e-01,  1.1987e+00,  2.2286e+00],\n",
       "       [ 8.4586e-01,  1.7159e+00, -4.6598e-01,  8.1105e-01, -7.8891e-01,\n",
       "        -1.6993e+00, -1.5637e+00,  1.2538e+00, -8.3185e-01,  6.4845e-01,\n",
       "        -7.8899e-01, -1.2546e+00, -7.2166e-01],\n",
       "       [-4.3096e-03, -1.2434e+00, -2.5176e+00, -1.1426e+00, -9.3120e-01,\n",
       "        -6.0964e-01, -3.3462e-02, -1.0568e+00, -3.0653e-01, -2.0745e-01,\n",
       "         1.0681e+00, -2.0110e-01, -1.1150e+00],\n",
       "       [-7.4517e-01, -6.3615e-01, -7.2710e-01,  8.1105e-01,  6.3400e-01,\n",
       "        -5.2832e-01,  2.5393e-02, -2.3159e-01, -5.2341e-02, -1.2837e+00,\n",
       "         4.7924e-01,  4.9159e-01, -1.2595e+00],\n",
       "       [-1.5468e+00,  2.7900e-01,  1.9960e+00,  5.9629e-02,  2.7827e-01,\n",
       "        -9.3491e-01, -3.3462e-02,  1.9140e+00, -1.0013e+00, -5.4641e-01,\n",
       "         1.2492e+00, -1.7224e-01, -4.5429e-01],\n",
       "       [-7.3302e-01, -7.0457e-01, -3.5407e-01,  5.1048e-01, -9.3120e-01,\n",
       "         6.7522e-01,  1.0652e+00,  1.8101e-01,  2.1879e-01, -4.8709e-01,\n",
       "        -1.1966e+00,  3.1842e-01, -1.2380e+00],\n",
       "       [ 1.4531e+00, -5.5062e-01,  1.6816e-01, -1.2629e+00,  1.9858e+00,\n",
       "         7.7280e-01,  9.7689e-01, -7.2672e-01,  1.1000e+00,  2.3321e-01,\n",
       "         3.8865e-01,  1.8770e+00,  9.5324e-01],\n",
       "       [ 3.9648e-01,  1.7637e-01, -1.3026e-01,  5.9629e-02, -7.1776e-01,\n",
       "        -1.5042e+00, -1.5343e+00,  1.5972e-02, -1.6961e+00,  2.1626e-01,\n",
       "        -1.1513e+00, -2.1554e-01,  7.7376e-02],\n",
       "       [ 5.6652e-01,  6.5532e-01,  8.7691e-01,  1.2619e+00,  1.7012e+00,\n",
       "        -1.5042e+00, -4.8469e-01, -1.2218e+00, -6.6239e-01,  1.4874e+00,\n",
       "        -1.6496e+00, -1.9040e+00, -7.8312e-01],\n",
       "       [-8.0589e-01, -1.0467e+00, -8.3901e-01, -2.4094e-01, -8.6005e-01,\n",
       "         1.9113e+00,  1.0161e+00, -1.4694e+00,  3.8825e-01, -2.7100e-01,\n",
       "         1.2039e+00,  3.6171e-01, -1.0290e+00],\n",
       "       [-1.2576e-01,  1.2369e+00,  9.8882e-01, -3.6117e-01,  2.0712e-01,\n",
       "         1.3851e-01,  3.3929e-01, -9.7428e-01,  5.7466e-01, -2.4982e-01,\n",
       "         3.4336e-01,  1.2997e+00,  4.6643e-02],\n",
       "       [ 1.6572e-01,  2.0203e-01, -5.5653e-02,  5.9629e-02,  1.4877e+00,\n",
       "        -1.0976e+00, -1.3577e+00,  1.3363e+00, -3.0653e-01,  1.7840e+00,\n",
       "        -1.6043e+00, -1.4422e+00,  2.6177e-01],\n",
       "       [ 1.4288e+00,  1.4422e+00,  2.0547e-01, -2.7100e-01,  8.4743e-01,\n",
       "         8.5412e-01,  5.7471e-01, -5.6167e-01, -6.6239e-01,  6.3727e-02,\n",
       "        -3.8135e-01,  1.0255e+00,  9.9934e-01],\n",
       "       [-1.7168e+00, -3.1114e-01, -3.9138e-01, -5.4151e-01, -7.7456e-02,\n",
       "         1.1306e+00,  1.9215e-01, -1.6344e+00, -4.9294e-01, -7.7945e-01,\n",
       "         9.3218e-01,  4.9159e-01, -1.2595e+00],\n",
       "       [-1.1581e+00, -4.4799e-01, -2.4217e-01, -3.9122e-01, -1.2869e+00,\n",
       "        -1.1789e+00, -5.5335e-01,  1.2538e+00, -1.5033e-03, -1.1396e+00,\n",
       "         5.6983e-01, -5.0416e-01, -8.4459e-01],\n",
       "       [ 1.0523e+00, -5.7628e-01, -9.8822e-01, -1.1426e+00,  1.3598e-01,\n",
       "         1.2607e+00,  1.3006e+00, -1.3044e+00,  8.4579e-01,  4.2812e-01,\n",
       "        -2.0017e-01,  1.0255e+00,  7.0738e-01],\n",
       "       [-9.0306e-01, -6.3615e-01, -6.5250e-01,  1.7986e-01,  2.7827e-01,\n",
       "        -1.9921e+00, -1.0242e+00,  1.5972e-02, -3.0653e-01, -8.6420e-01,\n",
       "        -2.1829e-01, -1.1536e+00,  3.5396e-01],\n",
       "       [ 4.4271e-02, -7.3023e-01, -1.0628e+00, -1.2929e+00, -7.7456e-02,\n",
       "         1.2224e-01,  5.6490e-01, -7.2672e-01, -4.5904e-01, -5.8879e-01,\n",
       "         1.0228e+00,  1.0195e-01,  8.1495e-01],\n",
       "       [ 1.9981e-02, -4.9930e-01, -1.0628e+00, -8.4207e-01,  5.6285e-01,\n",
       "         1.0981e+00,  9.1804e-01, -7.2672e-01,  6.5939e-01, -2.1015e-02,\n",
       "        -3.3605e-01,  1.0544e+00,  4.0006e-01],\n",
       "       [-4.0510e-01,  1.0231e+00, -9.2956e-02,  5.1048e-01,  4.9170e-01,\n",
       "        -1.0162e+00, -8.4763e-01, -1.6344e+00, -1.3572e+00, -3.7963e-02,\n",
       "        -7.8899e-01, -1.9184e+00, -4.7580e-01],\n",
       "       [-9.5164e-01,  1.3053e+00, -6.8980e-01, -3.9122e-01,  9.1858e-01,\n",
       "        -1.5367e+00, -1.2596e+00, -6.4419e-01, -8.4880e-01,  1.3221e+00,\n",
       "        -1.3778e+00, -8.9380e-01,  3.0787e-01],\n",
       "       [-1.2553e+00,  9.2046e-01, -1.4359e+00, -2.4094e-01, -8.6005e-01,\n",
       "        -5.2832e-01, -4.1602e-01,  1.5972e-02,  3.8825e-01, -1.6142e+00,\n",
       "        -1.0958e-01,  6.2147e-01, -5.8644e-01],\n",
       "       [-5.2655e-01, -8.6707e-01, -1.8089e+00, -3.9122e-01, -7.8891e-01,\n",
       "        -1.4228e+00, -6.9068e-01, -6.4419e-01, -4.9294e-01, -1.1184e+00,\n",
       "         3.8865e-01,  2.1740e-01, -5.9259e-01],\n",
       "       [-1.1581e+00, -2.3417e-01, -2.5549e+00, -6.9179e-01, -1.4860e-01,\n",
       "        -1.5425e-01,  1.0387e-01, -8.9176e-01, -4.0821e-01, -7.5827e-01,\n",
       "         1.4304e+00,  4.9159e-01, -1.3775e-01],\n",
       "       [ 7.3655e-01,  6.3822e-01,  6.5310e-01, -1.3831e+00,  1.2032e+00,\n",
       "         6.1016e-01,  9.4746e-01, -1.6344e+00,  3.2389e-02,  4.4079e-03,\n",
       "         2.6300e-02,  1.0688e+00,  2.7713e-01],\n",
       "       [-7.4517e-01,  1.6781e-01, -4.2868e-01,  6.6076e-01, -6.4662e-01,\n",
       "        -1.0488e+00, -2.1984e-01,  2.4091e+00, -3.7431e-01, -1.0125e+00,\n",
       "        -4.2664e-01,  9.8225e-01, -1.3517e+00],\n",
       "       [-2.4334e+00, -7.2168e-01, -6.8980e-01,  5.1048e-01, -1.0023e+00,\n",
       "         2.1983e-01,  1.0387e-01,  1.2538e+00,  6.2550e-01, -1.3515e+00,\n",
       "         3.4234e+00,  3.6171e-01, -1.0689e+00],\n",
       "       [-1.2576e-01,  3.9019e-01,  1.1753e+00,  3.6020e-01, -2.1975e-01,\n",
       "        -1.2765e+00, -1.5343e+00,  1.3363e+00, -1.5097e+00, -2.0745e-01,\n",
       "        -8.3429e-01, -4.4643e-01, -4.7580e-01],\n",
       "       [-1.0609e+00, -6.3615e-01, -2.7947e-01,  9.0122e-01, -6.4662e-01,\n",
       "        -8.8612e-01, -3.6698e-01,  5.1110e-01, -1.3707e-01, -1.1184e+00,\n",
       "         1.7022e+00, -5.1859e-01, -7.9849e-01],\n",
       "       [-1.8649e-01,  5.4414e-01,  5.6255e-02,  5.9629e-02,  3.4941e-01,\n",
       "        -1.6668e+00, -8.2801e-01, -1.0568e+00, -1.3741e+00,  1.3152e-01,\n",
       "        -9.7017e-01, -1.7308e+00, -6.9093e-01],\n",
       "       [-8.5448e-01, -1.0723e+00, -3.9138e-01, -1.1426e+00,  1.3598e-01,\n",
       "        -4.4700e-01, -9.5553e-01,  2.1615e+00, -2.0859e+00, -7.7098e-01,\n",
       "         1.3398e+00, -1.3700e+00, -2.2995e-01],\n",
       "       [-8.0589e-01, -1.2092e+00, -3.8232e+00, -2.7657e+00, -7.8891e-01,\n",
       "        -5.6084e-01, -1.4656e+00, -7.2672e-01, -2.0689e+00, -1.3303e+00,\n",
       "         4.3395e-01, -1.1536e+00, -7.2166e-01],\n",
       "       [ 2.9932e-01, -6.1049e-01,  1.6976e+00, -1.2929e+00,  7.7629e-01,\n",
       "         4.4752e-01,  6.0414e-01, -2.3159e-01, -4.7599e-01, -2.0745e-01,\n",
       "         6.1512e-01,  2.3183e-01,  3.8470e-01],\n",
       "       [-2.2292e-01, -6.4470e-01,  5.0389e-01, -6.0162e-01, -2.9089e-01,\n",
       "         2.5235e-01,  3.0005e-01, -8.9176e-01, -3.0653e-01, -4.9133e-01,\n",
       "         6.1512e-01,  1.4585e+00,  7.9958e-01]])"
      ]
     },
     "execution_count": 32,
     "metadata": {},
     "output_type": "execute_result"
    }
   ],
   "source": []
  },
  {
   "cell_type": "code",
   "execution_count": null,
   "metadata": {
    "collapsed": true
   },
   "outputs": [],
   "source": []
  }
 ],
 "metadata": {
  "kernelspec": {
   "display_name": "Python 3",
   "language": "python",
   "name": "python3"
  }
 },
 "nbformat": 4,
 "nbformat_minor": 2
}
