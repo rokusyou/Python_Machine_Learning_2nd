{
 "cells": [
  {
   "cell_type": "markdown",
   "metadata": {},
   "source": [
    "#### 6.1.1"
   ]
  },
  {
   "cell_type": "code",
   "execution_count": 11,
   "metadata": {},
   "outputs": [
    {
     "data": {
      "text/plain": [
       "\"\\ndf = pd.read_csv('https://archive.ics.uci.edu/ml/machine-learning-databases/' \\n                  'breast-cancer-wisconsin/wdbc.data',header=None)\\n                  \""
      ]
     },
     "execution_count": 11,
     "metadata": {},
     "output_type": "execute_result"
    }
   ],
   "source": [
    "import pandas as pd\n",
    "df = pd.read_csv('https://archive.ics.uci.edu/ml/machine-learning-databases/breast-cancer-wisconsin/wdbc.data',header=None)\n",
    "\n",
    "##　Following writing way is avairable\n",
    "'''\n",
    "df = pd.read_csv('https://archive.ics.uci.edu/ml/machine-learning-databases/' \n",
    "                  'breast-cancer-wisconsin/wdbc.data',header=None)\n",
    "'''"
   ]
  },
  {
   "cell_type": "code",
   "execution_count": 36,
   "metadata": {},
   "outputs": [],
   "source": [
    "from sklearn.preprocessing import LabelEncoder\n",
    "X = df.loc[:, 2:].values\n",
    "y = df.loc[:, 1].values\n",
    "\n",
    "le = LabelEncoder()\n",
    "y = le.fit_transform(y)"
   ]
  },
  {
   "cell_type": "code",
   "execution_count": 28,
   "metadata": {},
   "outputs": [
    {
     "data": {
      "text/plain": [
       "array([1, 0], dtype=int64)"
      ]
     },
     "execution_count": 28,
     "metadata": {},
     "output_type": "execute_result"
    }
   ],
   "source": [
    "le.transform(['M','B'])"
   ]
  },
  {
   "cell_type": "code",
   "execution_count": 24,
   "metadata": {},
   "outputs": [
    {
     "data": {
      "text/plain": [
       "array(['B', 'M'], dtype=object)"
      ]
     },
     "execution_count": 24,
     "metadata": {},
     "output_type": "execute_result"
    }
   ],
   "source": [
    "le.classes_"
   ]
  },
  {
   "cell_type": "code",
   "execution_count": 32,
   "metadata": {},
   "outputs": [],
   "source": [
    "from sklearn.model_selection import train_test_split\n",
    "X_train, X_test, y_train, y_test = train_test_split(X,y, test_size=0.20, \\\n",
    "                                                   stratify=y, random_state=1)"
   ]
  },
  {
   "cell_type": "markdown",
   "metadata": {},
   "source": [
    "#### 6.2.2 stratified k-fold cross-validation"
   ]
  },
  {
   "cell_type": "code",
   "execution_count": 38,
   "metadata": {},
   "outputs": [],
   "source": [
    "from sklearn.preprocessing import StandardScaler\n",
    "from sklearn.decomposition import PCA\n",
    "from sklearn.linear_model import LogisticRegression\n",
    "from sklearn.pipeline import make_pipeline\n",
    "\n",
    "pipe_lr = make_pipeline(StandardScaler(), \\\n",
    "                       PCA(n_components=2), \\\n",
    "                       LogisticRegression(random_state=1)\n",
    "                       )\n",
    "pipe_lr.fit(X_train,y_train)\n",
    "y_pred = pipe_lr.predict(X_test)"
   ]
  },
  {
   "cell_type": "code",
   "execution_count": 42,
   "metadata": {},
   "outputs": [
    {
     "name": "stdout",
     "output_type": "stream",
     "text": [
      "Fold:  1, Class dist.: [256 153], Acc: 0.935\n",
      "\n",
      "CV accuracy] 0.935 +/- 0.000\n",
      "Fold:  2, Class dist.: [256 153], Acc: 0.935\n",
      "\n",
      "CV accuracy] 0.935 +/- 0.000\n",
      "Fold:  3, Class dist.: [256 153], Acc: 0.957\n",
      "\n",
      "CV accuracy] 0.942 +/- 0.010\n",
      "Fold:  4, Class dist.: [256 153], Acc: 0.957\n",
      "\n",
      "CV accuracy] 0.946 +/- 0.011\n",
      "Fold:  5, Class dist.: [256 153], Acc: 0.935\n",
      "\n",
      "CV accuracy] 0.943 +/- 0.011\n",
      "Fold:  6, Class dist.: [257 153], Acc: 0.956\n",
      "\n",
      "CV accuracy] 0.945 +/- 0.011\n",
      "Fold:  7, Class dist.: [257 153], Acc: 0.978\n",
      "\n",
      "CV accuracy] 0.950 +/- 0.015\n",
      "Fold:  8, Class dist.: [257 153], Acc: 0.933\n",
      "\n",
      "CV accuracy] 0.948 +/- 0.015\n",
      "Fold:  9, Class dist.: [257 153], Acc: 0.956\n",
      "\n",
      "CV accuracy] 0.949 +/- 0.014\n",
      "Fold: 10, Class dist.: [257 153], Acc: 0.956\n",
      "\n",
      "CV accuracy] 0.950 +/- 0.014\n"
     ]
    }
   ],
   "source": [
    "import numpy as np\n",
    "\n",
    "from sklearn.model_selection import StratifiedKFold\n",
    "\n",
    "kfold = StratifiedKFold(n_splits=10, random_state=1).split(X_train,y_train)\n",
    "scores = []\n",
    "\n",
    "for k, (train,test) in enumerate(kfold):\n",
    "    pipe_lr.fit(X_train[train], y_train[train])\n",
    "    score = pipe_lr.score(X_train[test], y_train[test])\n",
    "    scores.append(score)\n",
    "    print('Fold: %2d, Class dist.: %s, Acc: %.3f' % \\\n",
    "           (k+1, np.bincount(y_train[train]), score))\n",
    "\n",
    "    print('\\nCV accuracy] %.3f +/- %.3f' % (np.mean(scores), np.std(scores)))\n",
    "    "
   ]
  },
  {
   "cell_type": "markdown",
   "metadata": {},
   "source": [
    "### 6.3.1 Variance and Bias"
   ]
  },
  {
   "cell_type": "code",
   "execution_count": 55,
   "metadata": {},
   "outputs": [
    {
     "name": "stderr",
     "output_type": "stream",
     "text": [
      "C:\\Users\\yueki\\Anaconda3\\lib\\site-packages\\sklearn\\model_selection\\_validation.py:1103: FutureWarning: Conversion of the second argument of issubdtype from `float` to `np.floating` is deprecated. In future, it will be treated as `np.float64 == np.dtype(float).type`.\n",
      "  if np.issubdtype(train_sizes_abs.dtype, np.float):\n"
     ]
    }
   ],
   "source": [
    "import matplotlib.pyplot as plt\n",
    "from sklearn.model_selection import learning_curve\n",
    "pipe_lr = make_pipeline(StandardScaler(), \\\n",
    "                      LogisticRegression(penalty='l2', random_state=1) )\n",
    "\n",
    "train_sizes, train_scores,test_scores = learning_curve(estimator=pipe_lr, \\\n",
    "                                                     X=X_train, \\\n",
    "                                                     y=y_train, \\\n",
    "                                                     train_sizes=np.linspace(0.1,1.0,10), \\\n",
    "                                                     cv=10, \\\n",
    "                                                     n_jobs=1)\n",
    "\n",
    "\n",
    "\n",
    "train_mean = np.mean(train_scores,axis=1)\n",
    "train_std = np.std(train_scores,axis=1)\n",
    "test_mean = np.mean(test_scores,axis=1)\n",
    "test_std = np.std(test_scores,axis=1)\n",
    "%matplotlib inline\n",
    "plt.plot(train_sizes,train_mean, \\\n",
    "         color='blue',marker='o', \\\n",
    "         markersize=5, \\\n",
    "         label='training accuracy')\n",
    "\n",
    "plt.fill_between(train_sizes, \\\n",
    "                 train_mean + train_std, \\\n",
    "                 train_mean - train_std, \\\n",
    "                 alpha=0.15, color='blue')\n",
    "\n",
    "plt.plot(train_sizes, train_mean, \\\n",
    "         color='blue', \\\n",
    "         linestyle='--' , \\\n",
    "         marker='s', \\\n",
    "         markersize=5, \\\n",
    "         label='Validation accuracy'\n",
    "        )\n",
    "\n",
    "plt.fill_between(train_sizes, \\\n",
    "         test_mean + test_std, \\\n",
    "         test_mean - test_std, \\\n",
    "         alpha=0.15, color='green'\n",
    "         )\n",
    "\n",
    "plt.grid()\n",
    "plt.xlabel('Number of training samples')\n",
    "plt.ylabel('Accuracy')\n",
    "plt.legend(loc='lower right')\n",
    "plt.ylim([0.8,1.0125])\n",
    "plt.tight_layout()\n",
    "plt.show()"
   ]
  },
  {
   "cell_type": "markdown",
   "metadata": {},
   "source": [
    "### 6.3.2 Validation Curve"
   ]
  },
  {
   "cell_type": "code",
   "execution_count": 79,
   "metadata": {},
   "outputs": [],
   "source": [
    "from sklearn.model_selection import validation_curve\n",
    "param_range= [0.001, 0.01,0.1,1.,10.,100.]\n",
    "\n",
    "train_scores, test_scores = validation_curve(estimator=pipe_lr, \\\n",
    "                                                     X=X_train, \\\n",
    "                                                     y=y_train, \\\n",
    "                                                     param_name='logisticregression__C',\n",
    "                                                     param_range=param_range, \\\n",
    "                                                     cv=10, \\\n",
    "                                                     n_jobs=1)\n",
    "\n",
    "\n"
   ]
  },
  {
   "cell_type": "code",
   "execution_count": 80,
   "metadata": {
    "collapsed": true
   },
   "outputs": [],
   "source": [
    "train_mean = np.mean(train_scores,axis=1)\n",
    "train_std = np.std(train_scores,axis=1)\n",
    "test_mean = np.mean(test_scores,axis=1)\n",
    "test_std = np.std(test_scores,axis=1)\n"
   ]
  },
  {
   "cell_type": "code",
   "execution_count": 90,
   "metadata": {},
   "outputs": [
    {
     "data": {
      "image/png": "[encoded data removed]",
      "text/plain": [
       "<matplotlib.figure.Figure at 0x23cec673780>"
      ]
     },
     "metadata": {},
     "output_type": "display_data"
    }
   ],
   "source": [
    "\n",
    "%matplotlib inline\n",
    "plt.plot(param_range,train_mean, \\\n",
    "         color='blue',marker='o', \\\n",
    "         markersize=5, \\\n",
    "         label='training accuracy')\n",
    "\n",
    "plt.fill_between(param_range, \\\n",
    "                 train_mean + train_std, \\\n",
    "                 train_mean - train_std, \\\n",
    "                 alpha=0.15, color='blue'\n",
    "                )\n",
    "\n",
    "plt.plot(param_range, test_mean, \\\n",
    "         color='green', \\\n",
    "         linestyle='--' , \\\n",
    "         marker='s', \\\n",
    "         markersize=5, \\\n",
    "         label='Validation accuracy'\n",
    "        )\n",
    "\n",
    "plt.fill_between(param_range, \\\n",
    "         test_mean + test_std, \\\n",
    "         test_mean - test_std, \\\n",
    "         alpha=0.15, color='green'\n",
    "         )\n",
    "\n",
    "plt.grid()\n",
    "plt.xscale('log')\n",
    "plt.legend(loc='lower right')\n",
    "plt.xlabel('Parameter C')\n",
    "plt.ylabel('Accuracy')\n",
    "plt.ylim([0.8,1.0125])\n",
    "plt.tight_layout()\n",
    "plt.show()"
   ]
  },
  {
   "cell_type": "code",
   "execution_count": null,
   "metadata": {
    "collapsed": true
   },
   "outputs": [],
   "source": []
  }
 ],
 "metadata": {
  "kernelspec": {
   "display_name": "Python 3",
   "language": "python",
   "name": "python3"
  },
  "language_info": {
   "codemirror_mode": {
    "name": "ipython",
    "version": 3
   },
   "file_extension": ".py",
   "mimetype": "text/x-python",
   "name": "python",
   "nbconvert_exporter": "python",
   "pygments_lexer": "ipython3",
   "version": "3.6.2"
  }
 },
 "nbformat": 4,
 "nbformat_minor": 2
}
